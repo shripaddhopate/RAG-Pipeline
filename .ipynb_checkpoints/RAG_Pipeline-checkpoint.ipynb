{
 "cells": [
  {
   "cell_type": "markdown",
   "id": "12049673-8180-481c-a9df-602874660b30",
   "metadata": {},
   "source": [
    "## RAG Pipeline with Gemini LLM, ChromaDB, and External PDF Knowledge"
   ]
  },
  {
   "cell_type": "code",
   "execution_count": 1,
   "id": "66da087b-fea3-431e-8f56-733fa7643f01",
   "metadata": {},
   "outputs": [],
   "source": [
    "import google.generativeai as genai"
   ]
  },
  {
   "cell_type": "code",
   "execution_count": 2,
   "id": "89e779df-d477-4fff-8f0d-5f647870410f",
   "metadata": {},
   "outputs": [],
   "source": [
    "import urllib\n",
    "import warnings\n",
    "from pathlib import Path as p\n",
    "from pprint import pprint\n",
    "\n",
    "import pandas as pd\n",
    "from langchain import PromptTemplate\n",
    "from langchain.chains.question_answering import load_qa_chain\n",
    "from langchain.document_loaders import PyPDFLoader\n",
    "from langchain.text_splitter import RecursiveCharacterTextSplitter\n",
    "from langchain.vectorstores import Chroma\n",
    "from langchain.chains import RetrievalQA\n",
    "\n",
    "from langchain_google_genai import ChatGoogleGenerativeAI\n",
    "from langchain_google_genai import GoogleGenerativeAIEmbeddings\n",
    "\n",
    "warnings.filterwarnings(\"ignore\")"
   ]
  },
  {
   "cell_type": "code",
   "execution_count": 18,
   "id": "6e0d39c0-f25a-45c1-a124-d676a0e2f454",
   "metadata": {},
   "outputs": [],
   "source": [
    "from IPython.display import display\n",
    "from IPython.display import Markdown\n",
    "import textwrap\n",
    "\n",
    "\n",
    "def to_markdown(text):\n",
    "  text = text.replace('•', '  *')\n",
    "  return Markdown(textwrap.indent(text, '> ', predicate=lambda _: True))"
   ]
  },
  {
   "cell_type": "code",
   "execution_count": 3,
   "id": "6e2c5c92-b47a-4d05-b1ed-63b7e04683ea",
   "metadata": {},
   "outputs": [],
   "source": [
    "### Load LLM Models"
   ]
  },
  {
   "cell_type": "code",
   "execution_count": 5,
   "id": "6e8fa98a-6186-4240-ac5e-f9d791dd684e",
   "metadata": {},
   "outputs": [],
   "source": [
    "api_key = \"AZzaByA78u1MehLi7Ymfy30c9wZALUgZEkGD_u0\""
   ]
  },
  {
   "cell_type": "code",
   "execution_count": 6,
   "id": "add6627c-cd61-47c5-90e1-483dbcee3846",
   "metadata": {},
   "outputs": [],
   "source": [
    "model = ChatGoogleGenerativeAI(model=\"gemini-pro\",google_api_key=api_key,\n",
    "                             temperature=0.2,top_p = 0.5 ,convert_system_message_to_human=True)"
   ]
  },
  {
   "cell_type": "code",
   "execution_count": 7,
   "id": "f1eff5e3-8a55-402e-b045-39dbc48f65ed",
   "metadata": {},
   "outputs": [
    {
     "data": {
      "text/plain": [
       "ChatGoogleGenerativeAI(model='models/gemini-pro', google_api_key=SecretStr('**********'), temperature=0.2, top_p=0.5, client=<google.ai.generativelanguage_v1beta.services.generative_service.client.GenerativeServiceClient object at 0x0000015DE7B23170>, default_metadata=(), convert_system_message_to_human=True)"
      ]
     },
     "execution_count": 7,
     "metadata": {},
     "output_type": "execute_result"
    }
   ],
   "source": [
    "model"
   ]
  },
  {
   "cell_type": "markdown",
   "id": "03389cb2-6eaf-4e04-a624-603919345b7c",
   "metadata": {},
   "source": [
    "### Custom Data"
   ]
  },
  {
   "cell_type": "code",
   "execution_count": 9,
   "id": "1d8c294a-79ed-4834-a9e5-20ee5e106195",
   "metadata": {},
   "outputs": [
    {
     "name": "stdout",
     "output_type": "stream",
     "text": [
      "Acquiring Editor:Todd Green\n",
      "Editorial Project Manager:Lindsay Lawrence\n",
      "Project Manager:Punithavathy Govindaradjane\n",
      "Designer: Matthew Limbert\n",
      "Morgan Kaufmann is an imprint of Elsevier\n",
      "225 Wyman Street, Waltham, MA 02451, USA\n",
      "Copyright r 2013 Elsevier Inc. All rights reserved\n",
      "No part of this publication may be reproduced or transmitted in any form or by any means, electronic\n",
      "or mechanical, including photocopying, recording, or any information storage and retrieval system, without\n",
      "permission in writing from the publisher. Details on how to seek permission, further information about\n",
      "the Publisher’s permissions policies and our arrangements with organizations such as the Copyright Clearance\n",
      "Center and the Copyright Licensing Agency, can be found at our website:www.elsevier.com/permissions.\n",
      "This book and the individual contributions contained in it are protected under copyright by the Publisher\n",
      "(other than as may be noted herein).\n",
      "Notices\n",
      "Knowledge and best practice in this field are constantly changing. As new research and experience broaden\n",
      "our understanding, changes in research methods or professional practices, may become necessary. Practitioners\n",
      "and researchers must always rely on their own experience and knowledge in evaluating and using any\n",
      "information or methods described herein. In using such information or methods they should be mindful of\n",
      "their own safety and the safety of others, including parties for whom they have a professional responsibility.\n",
      "To the fullest extent of the law, neither the Publisher nor the authors, contributors, or editors, assume any\n",
      "liability for any injury and/or damage to persons or property as a matter of products liability, negligence or\n",
      "otherwise, or from any use or operation of any methods, products, instructions, or ideas contained in the\n",
      "material herein.\n",
      "Library of Congress Cataloging-in-Publication Data\n",
      "Application submitted\n",
      "British Library Cataloguing-in-Publication Data\n",
      "A catalogue record for this book is available from the British Library\n",
      "ISBN: 978-0-12-411454-8\n",
      "Printed and bound in the United States of America\n",
      "13 14 15 16 17 10 9 8 7 6 5 4 3 2 1\n",
      "For information on all MK publications visit our website at www.mkp.com\n"
     ]
    }
   ],
   "source": [
    "pdf_loader = PyPDFLoader(\"unit 6 all.pdf\")\n",
    "pages = pdf_loader.load_and_split()\n",
    "print(pages[3].page_content)"
   ]
  },
  {
   "cell_type": "markdown",
   "id": "534a8ff8-4e42-4c1e-a8a9-68ec4bb68034",
   "metadata": {},
   "source": [
    "### Embedding Mode and converting to vector knowledge\n",
    "### Chroma DB uses a dense retriever. It is a vector database that stores embeddings and allows for efficient similarity search based on those embeddings."
   ]
  },
  {
   "cell_type": "code",
   "execution_count": 12,
   "id": "acd25fdf-c649-4ece-be6f-0c70a8f47341",
   "metadata": {},
   "outputs": [],
   "source": [
    "text_splitter = RecursiveCharacterTextSplitter(chunk_size=10000, chunk_overlap=1000)\n",
    "context = \"\\n\\n\".join(str(p.page_content) for p in pages)\n",
    "texts = text_splitter.split_text(context)"
   ]
  },
  {
   "cell_type": "code",
   "execution_count": 13,
   "id": "3da778fd-b60d-44e7-a6a2-8e9d15e81738",
   "metadata": {},
   "outputs": [],
   "source": [
    "embeddings = GoogleGenerativeAIEmbeddings(model=\"models/embedding-001\",google_api_key=api_key)"
   ]
  },
  {
   "cell_type": "code",
   "execution_count": 14,
   "id": "5506f85e-38eb-42ea-8b44-02ca96520b6a",
   "metadata": {},
   "outputs": [],
   "source": [
    "vector_index = Chroma.from_texts(texts, embeddings).as_retriever(search_kwargs={\"k\":5})"
   ]
  },
  {
   "cell_type": "markdown",
   "id": "d6bd46ee-25ea-47ff-ab16-bac81911cbb2",
   "metadata": {},
   "source": [
    "#### RetrievalQA.from_chain_type: This creates a retrieval-based question-answering chain. It combines a model with a retriever to answer questions by first retrieving relevant documents and then passing those documents to the model to generate an answer.\n",
    "\n",
    "#### model: This is the language model (e.g., GPT, LLaMA, etc.) that will generate the answers based on the context provided by the retrieved documents.\n",
    "\n",
    "#### retriever=vector_index: The retriever (vector_index) is used to search for and retrieve relevant documents based on the query. In this case, vector_index would be the vector store (like Chroma, FAISS, BM25, etc.) that stores the document embeddings and allows for similarity search to find documents most related to the query.\n",
    "\n",
    "#### return_source_documents=True: This flag tells the system to not only return the answer to the question but also return the source documents that were used to generate the answer. This is useful for transparency and traceability, as you can see which documents the model relied on."
   ]
  },
  {
   "cell_type": "code",
   "execution_count": 16,
   "id": "192bd665-45b2-4e09-9b79-0b3aa4a8e67d",
   "metadata": {},
   "outputs": [],
   "source": [
    "qa_chain = RetrievalQA.from_chain_type(\n",
    "    model,\n",
    "    retriever=vector_index,\n",
    "    return_source_documents=True\n",
    ")"
   ]
  },
  {
   "cell_type": "code",
   "execution_count": 19,
   "id": "009ff09a-9bfc-47fb-b293-ff4c50b81952",
   "metadata": {},
   "outputs": [
    {
     "data": {
      "text/markdown": [
       "**Parallel Computing**\n",
       "\n",
       "* Involves dividing a computation into smaller tasks that can be executed concurrently on multiple processors.\n",
       "* Focuses on maximizing performance within a single computer system.\n",
       "* Types:\n",
       "    * Single-instruction, single-data (SISD)\n",
       "    * Single-instruction, multiple-data (SIMD)\n",
       "    * Multiple-instruction, single-data (MISD)\n",
       "    * Multiple-instruction, multiple-data (MIMD)\n",
       "\n",
       "**Distributed Computing**\n",
       "\n",
       "* Involves dividing a computation into tasks that can be executed on multiple independent computers connected by a network.\n",
       "* Focuses on harnessing resources from multiple systems to solve complex problems.\n",
       "* Architectural styles:\n",
       "    * Client-server\n",
       "    * Peer-to-peer\n",
       "    * Cloud computing\n",
       "    * Grid computing\n",
       "\n",
       "**Key Differences**\n",
       "\n",
       "| Feature | Parallel Computing | Distributed Computing |\n",
       "|---|---|---|\n",
       "| Execution | Within a single computer | Across multiple computers |\n",
       "| Focus | Performance within a system | Resource utilization across systems |\n",
       "| Communication | Shared memory or message passing | Message passing |\n",
       "| Data | Shared or local | Distributed |\n",
       "| Scalability | Limited by the number of processors in a system | Scalable to large numbers of computers |\n",
       "| Fault tolerance | Limited | Higher due to redundancy |\n",
       "| Cost | Lower | Higher due to network and hardware requirements |\n",
       "| Applications | Scientific simulations, image processing | Data processing, web services, distributed databases |\n",
       "\n",
       "**Advantages of Parallel and Distributed Computing**\n",
       "\n",
       "* **Increased performance:** By distributing tasks across multiple processors or computers, computations can be completed faster.\n",
       "* **Scalability:** Distributed systems can be easily scaled up or down to meet changing demands.\n",
       "* **Fault tolerance:** Distributed systems are more fault-tolerant than centralized systems, as tasks can be reassigned to other computers in case of failure.\n",
       "* **Resource utilization:** Distributed systems can efficiently utilize resources by sharing them among multiple tasks.\n",
       "* **Cost-effectiveness:** Cloud computing and grid computing offer cost-effective ways to access computing resources on demand."
      ],
      "text/plain": [
       "<IPython.core.display.Markdown object>"
      ]
     },
     "execution_count": 19,
     "metadata": {},
     "output_type": "execute_result"
    }
   ],
   "source": [
    "question = \"Describe parrallel and distributed computing in detail?\"\n",
    "result = qa_chain({\"query\": question})\n",
    "# result[\"result\"]\n",
    "Markdown(result[\"result\"])"
   ]
  },
  {
   "cell_type": "code",
   "execution_count": 20,
   "id": "07c6285c-c6c9-43ce-871c-f3e94cbb8c52",
   "metadata": {},
   "outputs": [],
   "source": [
    "template = \"\"\"Use the following pieces of context to answer the question at the end. If you don't know the answer, just say that you don't know, don't try to make up an answer. Answer should be detailed and add example at the end if available \n",
    "{context}\n",
    "Question: {question}\n",
    "Helpful Answer:\"\"\"\n",
    "QA_CHAIN_PROMPT = PromptTemplate.from_template(template)# Run chain\n",
    "qa_chain = RetrievalQA.from_chain_type(\n",
    "    model,\n",
    "    retriever=vector_index,\n",
    "    return_source_documents=True,\n",
    "    chain_type_kwargs={\"prompt\": QA_CHAIN_PROMPT}\n",
    ")"
   ]
  },
  {
   "cell_type": "code",
   "execution_count": 21,
   "id": "2028b621-c02c-485b-81dc-2dea5ec47980",
   "metadata": {},
   "outputs": [
    {
     "data": {
      "text/markdown": [
       "**Parallel Computing**\n",
       "\n",
       "* Involves the simultaneous execution of multiple tasks on multiple processors within a single computer system.\n",
       "* Aims to improve performance by dividing a problem into smaller subtasks that can be processed concurrently.\n",
       "* Requires specialized hardware and software to coordinate the execution of tasks and manage shared resources.\n",
       "* Examples: multi-core processors, graphics processing units (GPUs), and vector processors.\n",
       "\n",
       "**Distributed Computing**\n",
       "\n",
       "* Involves the execution of tasks across multiple independent computers connected by a network.\n",
       "* Leverages the combined resources of multiple machines to solve complex problems or handle large workloads.\n",
       "* Requires mechanisms for communication, coordination, and fault tolerance among the distributed components.\n",
       "* Examples: cloud computing, grid computing, and distributed databases.\n",
       "\n",
       "**Key Differences**\n",
       "\n",
       "| Feature | Parallel Computing | Distributed Computing |\n",
       "|---|---|---|\n",
       "| Execution Environment | Single computer system | Multiple independent computers |\n",
       "| Task Distribution | Within a single machine | Across multiple machines |\n",
       "| Resource Sharing | Shared memory and resources | No shared memory, communication via network |\n",
       "| Coordination | Centralized control | Decentralized control |\n",
       "| Fault Tolerance | Limited to within the single machine | Requires mechanisms for handling failures across multiple machines |\n",
       "| Scalability | Limited by the number of processors in the system | Can scale to very large numbers of machines |\n",
       "| Applications | Scientific simulations, image processing, video encoding | Web services, data analytics, distributed storage |\n",
       "\n",
       "**Advantages of Parallel and Distributed Computing**\n",
       "\n",
       "* **Increased Performance:** By distributing tasks across multiple processors or machines, parallel and distributed computing can significantly improve the speed of computation.\n",
       "* **Scalability:** Distributed computing allows for easy scaling of resources by adding or removing machines as needed.\n",
       "* **Fault Tolerance:** Distributed systems can provide fault tolerance by replicating tasks across multiple machines, ensuring that failures in one machine do not affect the overall computation.\n",
       "* **Cost-Effectiveness:** Cloud computing, a form of distributed computing, offers cost-effective access to computing resources on demand, eliminating the need for expensive hardware investments."
      ],
      "text/plain": [
       "<IPython.core.display.Markdown object>"
      ]
     },
     "execution_count": 21,
     "metadata": {},
     "output_type": "execute_result"
    }
   ],
   "source": [
    "question = \"Describe parllel and distributed computing in detail?\"\n",
    "result = qa_chain({\"query\": question})\n",
    "Markdown(result[\"result\"])"
   ]
  },
  {
   "cell_type": "code",
   "execution_count": null,
   "id": "eb86ff1a-5e51-4d4b-8d62-78f20255a472",
   "metadata": {},
   "outputs": [],
   "source": []
  }
 ],
 "metadata": {
  "kernelspec": {
   "display_name": "Python 3 (ipykernel)",
   "language": "python",
   "name": "python3"
  },
  "language_info": {
   "codemirror_mode": {
    "name": "ipython",
    "version": 3
   },
   "file_extension": ".py",
   "mimetype": "text/x-python",
   "name": "python",
   "nbconvert_exporter": "python",
   "pygments_lexer": "ipython3",
   "version": "3.12.6"
  }
 },
 "nbformat": 4,
 "nbformat_minor": 5
}
